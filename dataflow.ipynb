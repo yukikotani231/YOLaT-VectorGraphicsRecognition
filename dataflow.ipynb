{
 "cells": [
  {
   "cell_type": "code",
   "execution_count": null,
   "metadata": {},
   "outputs": [],
   "source": []
  }
 ],
 "metadata": {
  "kernelspec": {
   "display_name": "Python 3.8.3 ('.venv': pipenv)",
   "language": "python",
   "name": "python3"
  },
  "language_info": {
   "name": "python",
   "version": "3.8.3"
  },
  "orig_nbformat": 4,
  "vscode": {
   "interpreter": {
    "hash": "26b2efd807f332db2ccea33febb7b99eac3c8f4f41a9efdfd4d1aeee358f104e"
   }
  }
 },
 "nbformat": 4,
 "nbformat_minor": 2
}
